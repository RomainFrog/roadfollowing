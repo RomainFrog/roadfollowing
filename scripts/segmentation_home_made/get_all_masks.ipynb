{
 "cells": [
  {
   "cell_type": "code",
   "execution_count": 20,
   "id": "f9f99429",
   "metadata": {},
   "outputs": [],
   "source": [
    "import cv2\n",
    "import numpy as np\n",
    "from skimage import io\n",
    "from skimage.color import rgb2gray\n",
    "import os\n",
    "import pandas as pd"
   ]
  },
  {
   "cell_type": "code",
   "execution_count": 23,
   "id": "dcdaf0af",
   "metadata": {},
   "outputs": [],
   "source": [
    "def get_mask(image_path, annotation_path, saving_path):\n",
    "    # Charger l'image\n",
    "    image = cv2.imread(image_path)\n",
    "\n",
    "    # Lire le fichier texte contenant les polygones\n",
    "    with open(annotation_path, \"r\") as fichier:\n",
    "        lignes = fichier.readlines()\n",
    "\n",
    "    mask = np.zeros((image.shape[0], image.shape[1]))\n",
    "\n",
    "    # Parcourir chaque ligne du fichier\n",
    "    for ligne in lignes:\n",
    "        # Supprimer les espaces en début et fin de ligne, puis séparer les valeurs\n",
    "        valeurs = ligne.strip().split(\" \")\n",
    "        \n",
    "        # Récupérer le numéro du polygone\n",
    "        numero_polygone = int(valeurs[0])\n",
    "\n",
    "        if numero_polygone == 1:\n",
    "            couleur_polygone = 255\n",
    "\n",
    "        if numero_polygone == 0:\n",
    "            couleur_polygone = 100\n",
    "\n",
    "        # Convertir les coordonnées en flottants\n",
    "        coordonnees = [float(v) for v in valeurs[1:]]\n",
    "\n",
    "        # Convertir les coordonnées en points (x, y)\n",
    "        points = []\n",
    "        for i in range(0, len(coordonnees), 2):\n",
    "            x = int(coordonnees[i] * image.shape[1])  # Multiplier par la largeur de l'image\n",
    "            y = int(coordonnees[i+1] * image.shape[0])  # Multiplier par la hauteur de l'image\n",
    "            points.append((x, y))\n",
    "\n",
    "        # Remplir l'intérieur du polygone sur l'image\n",
    "        cv2.fillPoly(mask, [np.array(points)], color=couleur_polygone)\n",
    "    mask =  mask.astype('uint8')\n",
    "    io.imsave(saving_path+\"mask_\"+image_path.split('/')[-1].replace('jpg', 'png'), mask)"
   ]
  },
  {
   "cell_type": "code",
   "execution_count": 24,
   "id": "e6a802a1",
   "metadata": {},
   "outputs": [
    {
     "name": "stderr",
     "output_type": "stream",
     "text": [
      "/tmp/ipykernel_3532/2099674763.py:38: UserWarning: masks/mask_2_207_396f2f9f-ea8b-11ed-bc40-fc4482a56b58.png is a low contrast image\n",
      "  io.imsave(saving_path+\"mask_\"+image_path.split('/')[-1].replace('jpg', 'png'), mask)\n",
      "/tmp/ipykernel_3532/2099674763.py:38: UserWarning: masks/mask_34_104_2d26aa70-d397-11ed-b872-fc4482a56b58.png is a low contrast image\n",
      "  io.imsave(saving_path+\"mask_\"+image_path.split('/')[-1].replace('jpg', 'png'), mask)\n",
      "/tmp/ipykernel_3532/2099674763.py:38: UserWarning: masks/mask_4_161_f5d57d3b-d397-11ed-942d-fc4482a56b58.png is a low contrast image\n",
      "  io.imsave(saving_path+\"mask_\"+image_path.split('/')[-1].replace('jpg', 'png'), mask)\n",
      "/tmp/ipykernel_3532/2099674763.py:38: UserWarning: masks/mask_5_193_3715408c-ea8b-11ed-8433-fc4482a56b58.png is a low contrast image\n",
      "  io.imsave(saving_path+\"mask_\"+image_path.split('/')[-1].replace('jpg', 'png'), mask)\n",
      "/tmp/ipykernel_3532/2099674763.py:38: UserWarning: masks/mask_5_223_f6db032c-ea8b-11ed-80ac-fc4482a56b58.png is a low contrast image\n",
      "  io.imsave(saving_path+\"mask_\"+image_path.split('/')[-1].replace('jpg', 'png'), mask)\n",
      "/tmp/ipykernel_3532/2099674763.py:38: UserWarning: masks/mask_7_42_b87dd8ec-ea8b-11ed-9f45-fc4482a56b58.png is a low contrast image\n",
      "  io.imsave(saving_path+\"mask_\"+image_path.split('/')[-1].replace('jpg', 'png'), mask)\n"
     ]
    }
   ],
   "source": [
    "for itm in [item for item in zip(\n",
    "    [\"images/\"+item+\".jpg\"for item in pd.Series([item[:-4] for item in os.listdir('images')]).sort_values().tolist()], \n",
    "    [\"labels/\"+item+'.txt'for item in pd.Series([item[:-4] for item in os.listdir('labels')]).sort_values().tolist()])]:\n",
    "        get_mask(itm[0], itm[1], 'masks/')"
   ]
  },
  {
   "cell_type": "code",
   "execution_count": null,
   "id": "bf9d99ab",
   "metadata": {},
   "outputs": [],
   "source": []
  },
  {
   "cell_type": "code",
   "execution_count": null,
   "id": "943b602c",
   "metadata": {},
   "outputs": [],
   "source": []
  },
  {
   "cell_type": "code",
   "execution_count": null,
   "id": "cfb8675b",
   "metadata": {},
   "outputs": [],
   "source": []
  }
 ],
 "metadata": {
  "kernelspec": {
   "display_name": "Python 3 (ipykernel)",
   "language": "python",
   "name": "python3"
  },
  "language_info": {
   "codemirror_mode": {
    "name": "ipython",
    "version": 3
   },
   "file_extension": ".py",
   "mimetype": "text/x-python",
   "name": "python",
   "nbconvert_exporter": "python",
   "pygments_lexer": "ipython3",
   "version": "3.11.3"
  }
 },
 "nbformat": 4,
 "nbformat_minor": 5
}
