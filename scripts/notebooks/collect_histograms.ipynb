{
 "cells": [
  {
   "cell_type": "code",
   "execution_count": 1,
   "id": "55508f70-1d4b-41cb-81d7-3bf8b12142c4",
   "metadata": {},
   "outputs": [],
   "source": [
    "import sys\n",
    "import os\n",
    "from skimage.segmentation import felzenszwalb\n",
    "import matplotlib.pyplot as plt\n",
    "\n",
    "%load_ext autoreload\n",
    "%autoreload 2\n",
    "\n",
    "sys.path.append('../')\n",
    "\n",
    "from src.auto_labeling.segmentation import *"
   ]
  },
  {
   "cell_type": "code",
   "execution_count": 2,
   "id": "faf0862e-f44c-4657-b552-c1fccec47b5d",
   "metadata": {},
   "outputs": [],
   "source": [
    "source_path = \"../data/datasets/segmentation/apex/\"\n",
    "source = os.listdir(source_path)"
   ]
  },
  {
   "cell_type": "code",
   "execution_count": 4,
   "id": "48acfad4-8a0a-47bc-8b15-eac88cd8bbbf",
   "metadata": {},
   "outputs": [],
   "source": [
    "orange_histograms = []\n",
    "i = 0"
   ]
  },
  {
   "cell_type": "code",
   "execution_count": 438,
   "id": "3e8958f3-d834-4006-8e12-553159e91ca8",
   "metadata": {},
   "outputs": [
    {
     "ename": "IndexError",
     "evalue": "list index out of range",
     "output_type": "error",
     "traceback": [
      "\u001b[0;31m---------------------------------------------------------------------------\u001b[0m",
      "\u001b[0;31mIndexError\u001b[0m                                Traceback (most recent call last)",
      "\u001b[0;32m/tmp/ipykernel_4758/3897690490.py\u001b[0m in \u001b[0;36m<module>\u001b[0;34m\u001b[0m\n\u001b[1;32m      1\u001b[0m \u001b[0mi\u001b[0m \u001b[0;34m+=\u001b[0m \u001b[0;36m1\u001b[0m\u001b[0;34m\u001b[0m\u001b[0;34m\u001b[0m\u001b[0m\n\u001b[1;32m      2\u001b[0m \u001b[0;34m\u001b[0m\u001b[0m\n\u001b[0;32m----> 3\u001b[0;31m \u001b[0mimg\u001b[0m \u001b[0;34m=\u001b[0m \u001b[0mplt\u001b[0m\u001b[0;34m.\u001b[0m\u001b[0mimread\u001b[0m\u001b[0;34m(\u001b[0m\u001b[0mos\u001b[0m\u001b[0;34m.\u001b[0m\u001b[0mpath\u001b[0m\u001b[0;34m.\u001b[0m\u001b[0mjoin\u001b[0m\u001b[0;34m(\u001b[0m\u001b[0msource_path\u001b[0m\u001b[0;34m,\u001b[0m \u001b[0msource\u001b[0m\u001b[0;34m[\u001b[0m\u001b[0mi\u001b[0m\u001b[0;34m]\u001b[0m\u001b[0;34m)\u001b[0m\u001b[0;34m)\u001b[0m\u001b[0;34m\u001b[0m\u001b[0;34m\u001b[0m\u001b[0m\n\u001b[0m\u001b[1;32m      4\u001b[0m \u001b[0minit_coords\u001b[0m \u001b[0;34m=\u001b[0m \u001b[0mx_y_from_img\u001b[0m\u001b[0;34m(\u001b[0m\u001b[0msource\u001b[0m\u001b[0;34m[\u001b[0m\u001b[0mi\u001b[0m\u001b[0;34m]\u001b[0m\u001b[0;34m)\u001b[0m\u001b[0;34m\u001b[0m\u001b[0;34m\u001b[0m\u001b[0m\n\u001b[1;32m      5\u001b[0m \u001b[0msegments\u001b[0m \u001b[0;34m=\u001b[0m \u001b[0mfelzenszwalb\u001b[0m\u001b[0;34m(\u001b[0m\u001b[0mimg\u001b[0m\u001b[0;34m,\u001b[0m \u001b[0mscale\u001b[0m\u001b[0;34m=\u001b[0m\u001b[0;36m50\u001b[0m\u001b[0;34m,\u001b[0m \u001b[0msigma\u001b[0m\u001b[0;34m=\u001b[0m\u001b[0;36m1\u001b[0m\u001b[0;34m,\u001b[0m \u001b[0mmin_size\u001b[0m\u001b[0;34m=\u001b[0m\u001b[0;36m100\u001b[0m\u001b[0;34m)\u001b[0m\u001b[0;34m\u001b[0m\u001b[0;34m\u001b[0m\u001b[0m\n",
      "\u001b[0;31mIndexError\u001b[0m: list index out of range"
     ]
    }
   ],
   "source": [
    "i += 1\n",
    "    \n",
    "img = plt.imread(os.path.join(source_path, source[i]))\n",
    "init_coords = x_y_from_img(source[i])\n",
    "segments = felzenszwalb(img, scale=50, sigma=1, min_size=100)\n",
    "s1, hists = propagate_segment(img, segments, init_coords, thr=0.075)\n",
    "\n",
    "preview_lane(img,s1, init_coords)\n",
    "print(i)"
   ]
  },
  {
   "cell_type": "code",
   "execution_count": 437,
   "id": "70e6013c-cfd2-4d64-a5b4-fb0ce67181cc",
   "metadata": {},
   "outputs": [
    {
     "data": {
      "text/plain": [
       "9603"
      ]
     },
     "execution_count": 437,
     "metadata": {},
     "output_type": "execute_result"
    }
   ],
   "source": [
    "orange_histograms.extend(hists)\n",
    "len(orange_histograms)"
   ]
  },
  {
   "cell_type": "code",
   "execution_count": 442,
   "id": "6ad089a3-5283-4427-999d-b02b33ac0a33",
   "metadata": {},
   "outputs": [],
   "source": [
    "import pickle\n",
    "with open('pos_histograms_720p.pickle', 'wb') as handle:\n",
    "    pickle.dump(orange_histograms, handle, protocol=pickle.HIGHEST_PROTOCOL)"
   ]
  },
  {
   "cell_type": "code",
   "execution_count": 646,
   "id": "6e117b5a-71fe-44d0-ae87-8ac5622c5085",
   "metadata": {},
   "outputs": [],
   "source": [
    "with open('orange_histograms.pickle', 'wb') as handle:\n",
    "    pickle.dump(orange_histograms, handle, protocol=pickle.HIGHEST_PROTOCOL)"
   ]
  },
  {
   "cell_type": "code",
   "execution_count": 445,
   "id": "2b1ee3c6-22c0-4c53-a50f-cc48155373aa",
   "metadata": {},
   "outputs": [
    {
     "data": {
      "text/plain": [
       "9603"
      ]
     },
     "execution_count": 445,
     "metadata": {},
     "output_type": "execute_result"
    }
   ],
   "source": [
    "len(orange_histograms)"
   ]
  },
  {
   "cell_type": "code",
   "execution_count": 650,
   "id": "c8ffc23a-6ecf-4b8e-bc39-66a3c875a3d6",
   "metadata": {},
   "outputs": [],
   "source": [
    "source_path = \"../data/datasets/onroad/posneg_dataset/neg/\"\n",
    "source = os.listdir(source_path)"
   ]
  },
  {
   "cell_type": "code",
   "execution_count": 658,
   "id": "f13e8fb3-d582-4cb9-8cbb-07627efd17b6",
   "metadata": {},
   "outputs": [
    {
     "name": "stderr",
     "output_type": "stream",
     "text": [
      "100%|███████████████████████████████████████| 1042/1042 [01:16<00:00, 13.69it/s]\n"
     ]
    }
   ],
   "source": [
    "from tqdm import tqdm\n",
    "neg_histograms = []\n",
    "\n",
    "for file in tqdm(source):\n",
    "    img = plt.imread(os.path.join(source_path, file))\n",
    "    segments = felzenszwalb(img, scale=20, sigma=1, min_size=50)\n",
    "    for seg_idx in np.unique(segments):\n",
    "        neg_histograms.append(get_segment_histogram(img, segments, seg_idx))\n"
   ]
  },
  {
   "cell_type": "code",
   "execution_count": 659,
   "id": "25d55b42-ac19-42c7-905b-25db944ebbc5",
   "metadata": {},
   "outputs": [
    {
     "data": {
      "text/plain": [
       "134828"
      ]
     },
     "execution_count": 659,
     "metadata": {},
     "output_type": "execute_result"
    }
   ],
   "source": [
    "len(neg_histograms)"
   ]
  },
  {
   "cell_type": "code",
   "execution_count": 660,
   "id": "4808ec1f-735a-4392-8ebf-ec2f01570de5",
   "metadata": {},
   "outputs": [],
   "source": [
    "with open('neg_histograms.pickle', 'wb') as handle:\n",
    "    pickle.dump(neg_histograms, handle, protocol=pickle.HIGHEST_PROTOCOL)"
   ]
  },
  {
   "cell_type": "code",
   "execution_count": null,
   "id": "bbfcb79c-db70-4dbd-8228-0282cf33460e",
   "metadata": {},
   "outputs": [],
   "source": []
  }
 ],
 "metadata": {
  "kernelspec": {
   "display_name": "Python 3 (ipykernel)",
   "language": "python",
   "name": "python3"
  },
  "language_info": {
   "codemirror_mode": {
    "name": "ipython",
    "version": 3
   },
   "file_extension": ".py",
   "mimetype": "text/x-python",
   "name": "python",
   "nbconvert_exporter": "python",
   "pygments_lexer": "ipython3",
   "version": "3.9.7"
  }
 },
 "nbformat": 4,
 "nbformat_minor": 5
}
