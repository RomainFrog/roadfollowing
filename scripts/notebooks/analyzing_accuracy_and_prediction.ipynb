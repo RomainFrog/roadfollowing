{
 "cells": [
  {
   "cell_type": "code",
   "execution_count": 3,
   "id": "34d55db1-7995-45b0-9d9c-7eab73bae103",
   "metadata": {},
   "outputs": [],
   "source": [
    "import os\n",
    "imp\n",
    "ROOT_DIR = os.path.abspath(os.path.join(os.getcwd(), \"../\"))"
   ]
  },
  {
   "cell_type": "code",
   "execution_count": 4,
   "id": "3a8d353d",
   "metadata": {},
   "outputs": [
    {
     "ename": "ModuleNotFoundError",
     "evalue": "No module named 'utils'",
     "output_type": "error",
     "traceback": [
      "\u001b[0;31m---------------------------------------------------------------------------\u001b[0m",
      "\u001b[0;31mModuleNotFoundError\u001b[0m                       Traceback (most recent call last)",
      "\u001b[0;32m/tmp/ipykernel_6820/4140992234.py\u001b[0m in \u001b[0;36m<module>\u001b[0;34m\u001b[0m\n\u001b[0;32m----> 1\u001b[0;31m \u001b[0;32mfrom\u001b[0m \u001b[0mutils\u001b[0m\u001b[0;34m.\u001b[0m\u001b[0mutils\u001b[0m \u001b[0;32mimport\u001b[0m \u001b[0;34m*\u001b[0m\u001b[0;34m\u001b[0m\u001b[0;34m\u001b[0m\u001b[0m\n\u001b[0m\u001b[1;32m      2\u001b[0m \u001b[0;32mimport\u001b[0m \u001b[0mtorch\u001b[0m\u001b[0;34m\u001b[0m\u001b[0;34m\u001b[0m\u001b[0m\n\u001b[1;32m      3\u001b[0m \u001b[0;32mimport\u001b[0m \u001b[0mtorchvision\u001b[0m\u001b[0;34m\u001b[0m\u001b[0;34m\u001b[0m\u001b[0m\n\u001b[1;32m      4\u001b[0m \u001b[0;32mfrom\u001b[0m \u001b[0mutils\u001b[0m\u001b[0;34m.\u001b[0m\u001b[0mxy_dataset\u001b[0m \u001b[0;32mimport\u001b[0m \u001b[0mXYDataset\u001b[0m\u001b[0;34m\u001b[0m\u001b[0;34m\u001b[0m\u001b[0m\n\u001b[1;32m      5\u001b[0m \u001b[0;32mimport\u001b[0m \u001b[0mpandas\u001b[0m \u001b[0;32mas\u001b[0m \u001b[0mpd\u001b[0m\u001b[0;34m\u001b[0m\u001b[0;34m\u001b[0m\u001b[0m\n",
      "\u001b[0;31mModuleNotFoundError\u001b[0m: No module named 'utils'"
     ]
    }
   ],
   "source": [
    "from utils.utils import *\n",
    "import torch\n",
    "import torchvision\n",
    "from utils.xy_dataset import XYDataset\n",
    "import pandas as pd\n",
    "import sys\n",
    "import math\n",
    "import seaborn as sns\n",
    "\n",
    "def distance_euclidienne_xy(x1, y1, x2, y2):\n",
    "    distance = math.sqrt((x2 - x1)**2 + (y2 - y1)**2)\n",
    "    return distance\n",
    "\n",
    "def distance_euclidienne_only_x(x1, x2):\n",
    "    return abs(x2 - x1)\n",
    "\n",
    "#Function to predict the apex in a given image with the model specified\n",
    "def predict_apex(image, model):\n",
    "    dim = (256, 256)\n",
    "    img = cv2.imread(image)\n",
    "\n",
    "    # Redimensionner l'image\n",
    "    # img = cv2.resize(img, dim, interpolation = cv2.INTER_AREA)\n",
    "    \n",
    "    #Apply model\n",
    "    preprocessed = preprocess(img)\n",
    "    output = model(preprocessed).detach().cpu().numpy().flatten()\n",
    "    \n",
    "    #recalculate coordinates\n",
    "    x = int(dim[0]* (output[0] / 2.0 + 0.5))\n",
    "    y = int(dim[1]* (output[1] / 2.0 + 0.5))\n",
    "    \n",
    "    return x,y\n",
    "\n",
    "def predict_apex_only_x(image,model):\n",
    "    dim = (256, 256)\n",
    "    img = cv2.imread(image)\n",
    "\n",
    "    # Redimensionner l'image\n",
    "    # img = cv2.resize(img, dim, interpolation = cv2.INTER_AREA)\n",
    "    \n",
    "    #Apply model\n",
    "    preprocessed = preprocess(img)\n",
    "    output = model(preprocessed).detach().cpu().numpy().flatten()\n",
    "    \n",
    "    #recalculate coordinates\n",
    "    x = int(dim[0]* (output[0] / 2.0 + 0.5))\n",
    "    #y = int(dim[1]* (output[1] / 2.0 + 0.5))\n",
    "    \n",
    "    return x#,y"
   ]
  },
  {
   "cell_type": "code",
   "execution_count": 16,
   "id": "f38422ea",
   "metadata": {},
   "outputs": [],
   "source": [
    "def loading_data_model(model_file, output_dim_model):\n",
    "    #Loading the parameters needed\n",
    "    #model_file, TASK, CATEGORIES = sys.argv[1:4]\n",
    "    #model_file = \"models/xy.pth\"\n",
    "    TASK = \"data/test/\"\n",
    "    CATEGORIES = 'apex'\n",
    "\n",
    "    #Loading the model\n",
    "    model = torchvision.models.resnet18(pretrained=True)\n",
    "    model.fc = torch.nn.Linear(512, output_dim_model)\n",
    "    model.load_state_dict(torch.load(model_file))\n",
    "\n",
    "\n",
    "    #Loading the dataset\n",
    "    CATEGORIES = [CATEGORIES] # Adapt to the right format, list exigée\n",
    "    print(TASK)\n",
    "    TRANSFORMS = transforms.Compose([\n",
    "        transforms.ColorJitter(0.2, 0.2, 0.2, 0.2),\n",
    "        transforms.Resize((224, 224)),\n",
    "        transforms.ToTensor(),\n",
    "        transforms.Normalize([0.485, 0.456, 0.406], [0.229, 0.224, 0.225])\n",
    "    ])\n",
    "    #dataset = XYDataset(TASK , CATEGORIES, TRANSFORMS, random_hflip=True)\n",
    "    test_dataset = XYDataset(TASK , CATEGORIES, TRANSFORMS, random_hflip=True)\n",
    "\n",
    "    print(len(test_dataset.annotations), \" elements in the test dataset\")\n",
    "\n",
    "    return test_dataset, model"
   ]
  },
  {
   "cell_type": "markdown",
   "id": "ce468124",
   "metadata": {},
   "source": [
    "# Repartition of x prediction with xy model (0 : apex)"
   ]
  },
  {
   "cell_type": "code",
   "execution_count": 17,
   "id": "489c8e95",
   "metadata": {},
   "outputs": [
    {
     "name": "stdout",
     "output_type": "stream",
     "text": [
      "data/test/\n",
      "110  elements in the test dataset\n"
     ]
    },
    {
     "data": {
      "text/plain": [
       "<AxesSubplot:ylabel='Count'>"
      ]
     },
     "execution_count": 17,
     "metadata": {},
     "output_type": "execute_result"
    },
    {
     "data": {
      "image/png": "[encoded data removed]",
      "text/plain": [
       "<Figure size 432x288 with 1 Axes>"
      ]
     },
     "metadata": {
      "needs_background": "light"
     },
     "output_type": "display_data"
    }
   ],
   "source": [
    "test_dataset, model = loading_data_model(\"models/xy.pth\", 2)\n",
    "distances = []\n",
    "for item in test_dataset.annotations:\n",
    "    a = np.array((item['x']))\n",
    "    b = np.array(predict_apex_only_x(item['image_path'], model))\n",
    "    distances.append(a-b)\n",
    "\n",
    "sns.histplot(distances)"
   ]
  },
  {
   "cell_type": "markdown",
   "id": "ae81bdfa",
   "metadata": {},
   "source": [
    "# Repartition of x prediction with xy augmented model (0 : apex)"
   ]
  },
  {
   "cell_type": "code",
   "execution_count": 18,
   "id": "5bf7088b",
   "metadata": {},
   "outputs": [
    {
     "name": "stdout",
     "output_type": "stream",
     "text": [
      "data/test/\n",
      "110  elements in the test dataset\n"
     ]
    },
    {
     "data": {
      "text/plain": [
       "<AxesSubplot:ylabel='Count'>"
      ]
     },
     "execution_count": 18,
     "metadata": {},
     "output_type": "execute_result"
    },
    {
     "data": {
      "image/png": "[encoded data removed]",
      "text/plain": [
       "<Figure size 432x288 with 1 Axes>"
      ]
     },
     "metadata": {
      "needs_background": "light"
     },
     "output_type": "display_data"
    }
   ],
   "source": [
    "test_dataset, model = loading_data_model(\"models/xy_augmented.pth\", 2)\n",
    "distances = []\n",
    "for item in test_dataset.annotations:\n",
    "    a = np.array((item['x']))\n",
    "    b = np.array(predict_apex_only_x(item['image_path'], model))\n",
    "    distances.append(a-b)\n",
    "\n",
    "sns.histplot(distances)"
   ]
  },
  {
   "cell_type": "markdown",
   "id": "3a09bb69",
   "metadata": {},
   "source": [
    "# Repartition of x prediction with only x model (0 : apex)"
   ]
  },
  {
   "cell_type": "code",
   "execution_count": 19,
   "id": "d5178eef",
   "metadata": {},
   "outputs": [
    {
     "name": "stdout",
     "output_type": "stream",
     "text": [
      "data/test/\n",
      "110  elements in the test dataset\n"
     ]
    },
    {
     "data": {
      "text/plain": [
       "<AxesSubplot:ylabel='Count'>"
      ]
     },
     "execution_count": 19,
     "metadata": {},
     "output_type": "execute_result"
    },
    {
     "data": {
      "image/png": "[encoded data removed]",
      "text/plain": [
       "<Figure size 432x288 with 1 Axes>"
      ]
     },
     "metadata": {
      "needs_background": "light"
     },
     "output_type": "display_data"
    }
   ],
   "source": [
    "test_dataset, model = loading_data_model(\"models/x.pth\", 1)\n",
    "distances = []\n",
    "for item in test_dataset.annotations:\n",
    "    a = np.array((item['x']))\n",
    "    b = np.array(predict_apex_only_x(item['image_path'], model))\n",
    "    distances.append(a-b)\n",
    "\n",
    "sns.histplot(distances)"
   ]
  },
  {
   "cell_type": "markdown",
   "id": "9d6204a7",
   "metadata": {},
   "source": [
    "# Repartition of x prediction with only x augmented model (0 : apex)"
   ]
  },
  {
   "cell_type": "code",
   "execution_count": 20,
   "id": "17c43c2f",
   "metadata": {},
   "outputs": [
    {
     "name": "stdout",
     "output_type": "stream",
     "text": [
      "data/test/\n",
      "110  elements in the test dataset\n"
     ]
    },
    {
     "data": {
      "text/plain": [
       "<AxesSubplot:ylabel='Count'>"
      ]
     },
     "execution_count": 20,
     "metadata": {},
     "output_type": "execute_result"
    },
    {
     "data": {
      "image/png": "[encoded data removed]",
      "text/plain": [
       "<Figure size 432x288 with 1 Axes>"
      ]
     },
     "metadata": {
      "needs_background": "light"
     },
     "output_type": "display_data"
    }
   ],
   "source": [
    "test_dataset, model = loading_data_model(\"models/x_augmented.pth\", 1)\n",
    "distances = []\n",
    "for item in test_dataset.annotations:\n",
    "    a = np.array((item['x']))\n",
    "    b = np.array(predict_apex_only_x(item['image_path'], model))\n",
    "    distances.append(a-b)\n",
    "\n",
    "sns.histplot(distances)"
   ]
  },
  {
   "cell_type": "code",
   "execution_count": null,
   "id": "c52df111",
   "metadata": {},
   "outputs": [],
   "source": []
  }
 ],
 "metadata": {
  "kernelspec": {
   "display_name": "Python 3 (ipykernel)",
   "language": "python",
   "name": "python3"
  },
  "language_info": {
   "codemirror_mode": {
    "name": "ipython",
    "version": 3
   },
   "file_extension": ".py",
   "mimetype": "text/x-python",
   "name": "python",
   "nbconvert_exporter": "python",
   "pygments_lexer": "ipython3",
   "version": "3.9.7"
  }
 },
 "nbformat": 4,
 "nbformat_minor": 5
}
