{
 "cells": [
  {
   "cell_type": "markdown",
   "id": "e94b286d-91bc-4e9e-8691-23cba42a13c0",
   "metadata": {},
   "source": [
    "## Binary Classifier"
   ]
  },
  {
   "cell_type": "code",
   "execution_count": 1,
   "id": "7ce1f24f-4b56-4e6e-ab76-9823eddeccfd",
   "metadata": {},
   "outputs": [],
   "source": [
    "import os\n",
    "import cv2\n",
    "import numpy as np\n",
    "import PIL.Image\n",
    "import torch\n",
    "from torch.utils.data import Dataset, DataLoader\n",
    "from torchvision.transforms import ToTensor, Resize, Compose\n",
    "\n",
    "\n",
    "class ImageDataset(Dataset):\n",
    "    def __init__(self, folder_path, transform=None):\n",
    "        self.folder_path = folder_path\n",
    "        self.transform = transform\n",
    "\n",
    "        self.img_paths = []\n",
    "        self.labels = []\n",
    "\n",
    "        for class_name in ['pos', 'neg']:\n",
    "            class_folder = os.path.join(self.folder_path, class_name)\n",
    "            class_label = 1 if class_name == 'pos' else 0\n",
    "            for file_name in os.listdir(class_folder):\n",
    "                file_path = os.path.join(class_folder, file_name)\n",
    "                self.img_paths.append(file_path)\n",
    "                self.labels.append(class_label)\n",
    "\n",
    "    def __len__(self):\n",
    "        return len(self.labels)\n",
    "\n",
    "    def __getitem__(self, index):\n",
    "        img_path = self.img_paths[index]\n",
    "        label = self.labels[index]\n",
    "\n",
    "        # img = cv2.imread(img_path)\n",
    "        # img = cv2.cvtColor(img, cv2.COLOR_BGR2RGB)\n",
    "        \n",
    "        img = cv2.imread(img_path, cv2.IMREAD_COLOR)\n",
    "        img = PIL.Image.fromarray(img)\n",
    "\n",
    "        if self.transform:\n",
    "            img = self.transform(img)\n",
    "\n",
    "        return img, label\n"
   ]
  },
  {
   "cell_type": "code",
   "execution_count": 2,
   "id": "b03f9f57-d60c-4b11-bbdf-18259fbe487a",
   "metadata": {},
   "outputs": [],
   "source": [
    "import torch\n",
    "import torch.nn as nn\n",
    "import torch.optim as optim\n",
    "from sklearn.model_selection import KFold\n",
    "import torchvision.transforms as transforms\n",
    "\n",
    "def train(model, train_loader, val_loader, num_epochs, lr):\n",
    "    criterion = nn.CrossEntropyLoss()\n",
    "    optimizer = optim.Adam(model.parameters(), lr=lr)\n",
    "\n",
    "    for epoch in range(num_epochs):\n",
    "        model.train()\n",
    "        train_loss = 0.0\n",
    "        train_acc = 0.0\n",
    "        for i, (inputs, labels) in enumerate(train_loader):\n",
    "            optimizer.zero_grad()\n",
    "            outputs = model(inputs)\n",
    "            loss = criterion(outputs, labels)\n",
    "            loss.backward()\n",
    "            optimizer.step()\n",
    "            train_loss += loss.item() * inputs.size(0)\n",
    "            _, preds = torch.max(outputs, 1)\n",
    "            train_acc += torch.sum(preds == labels.data)\n",
    "        train_loss /= len(train_loader.dataset)\n",
    "        train_acc /= len(train_loader.dataset)\n",
    "\n",
    "        model.eval()\n",
    "        val_loss = 0.0\n",
    "        val_acc = 0.0\n",
    "        with torch.no_grad():\n",
    "            for inputs, labels in val_loader:\n",
    "                outputs = model(inputs)\n",
    "                loss = criterion(outputs, labels)\n",
    "                val_loss += loss.item() * inputs.size(0)\n",
    "                _, preds = torch.max(outputs, 1)\n",
    "                val_acc += torch.sum(preds == labels.data)\n",
    "            val_loss /= len(val_loader.dataset)\n",
    "            val_acc /= len(val_loader.dataset)\n",
    "\n",
    "        print('Epoch [{}/{}], Train Loss: {:.4f}, Train Acc: {:.4f}, Val Loss: {:.4f}, Val Acc: {:.4f}'\n",
    "              .format(epoch+1, num_epochs, train_loss, train_acc, val_loss, val_acc))\n",
    "\n",
    "def k_fold_cross_validation(model, input_folder, num_epochs, lr, batch_size, num_workers, num_folds):\n",
    "    transform = transforms.Compose([\n",
    "        transforms.ColorJitter(0.2, 0.2, 0.2, 0.2),\n",
    "        transforms.Resize((224, 224)),\n",
    "        transforms.ToTensor(),\n",
    "        transforms.Normalize([0.485, 0.456, 0.406], [0.229, 0.224, 0.225])\n",
    "    ])\n",
    "    print(\"Loading dataset...\")\n",
    "    dataset = ImageDataset(input_folder, transform=transform)\n",
    "    print(\"Dataset successfully loaded!\")\n",
    "    kf = KFold(n_splits=num_folds, shuffle=True, random_state=42)\n",
    "    fold = 1\n",
    "    for train_idx, val_idx in kf.split(dataset):\n",
    "        print('Fold {}/{}'.format(fold, num_folds))\n",
    "        train_dataset = torch.utils.data.Subset(dataset, train_idx)\n",
    "        val_dataset = torch.utils.data.Subset(dataset, val_idx)\n",
    "        train_loader = DataLoader(train_dataset, batch_size=batch_size, shuffle=True, num_workers=num_workers)\n",
    "        val_loader = DataLoader(val_dataset, batch_size=batch_size, shuffle=False, num_workers=num_workers)\n",
    "        train(model, train_loader, val_loader, num_epochs, lr)\n",
    "        fold += 1\n"
   ]
  },
  {
   "cell_type": "code",
   "execution_count": 3,
   "id": "d5b2a39f-1362-47d9-931a-f56e869bb19c",
   "metadata": {},
   "outputs": [
    {
     "name": "stderr",
     "output_type": "stream",
     "text": [
      "/home/romain/anaconda3/lib/python3.9/site-packages/torchvision/models/_utils.py:208: UserWarning: The parameter 'pretrained' is deprecated since 0.13 and may be removed in the future, please use 'weights' instead.\n",
      "  warnings.warn(\n",
      "/home/romain/anaconda3/lib/python3.9/site-packages/torchvision/models/_utils.py:223: UserWarning: Arguments other than a weight enum or `None` for 'weights' are deprecated since 0.13 and may be removed in the future. The current behavior is equivalent to passing `weights=ResNet18_Weights.IMAGENET1K_V1`. You can also use `weights=ResNet18_Weights.DEFAULT` to get the most up-to-date weights.\n",
      "  warnings.warn(msg)\n"
     ]
    }
   ],
   "source": [
    "from torchvision import models\n",
    "model = models.resnet18(pretrained=True)\n",
    "num_ftrs = model.fc.in_features\n",
    "model.fc = nn.Linear(num_ftrs, 2)"
   ]
  },
  {
   "cell_type": "code",
   "execution_count": null,
   "id": "cdfdc1b2-117f-4690-9d98-ba26320e329b",
   "metadata": {},
   "outputs": [
    {
     "name": "stdout",
     "output_type": "stream",
     "text": [
      "Loading dataset...\n",
      "Dataset successfully loaded!\n",
      "Fold 1/2\n"
     ]
    }
   ],
   "source": [
    "k_fold_cross_validation(model, \"posneg_dataset\", num_epochs=2, lr=0.001, batch_size=80, num_workers=4, num_folds=2)"
   ]
  },
  {
   "cell_type": "code",
   "execution_count": 5,
   "id": "f93ea6dd-dd3c-41c9-8766-b317416206ee",
   "metadata": {},
   "outputs": [],
   "source": [
    "#Save the model\n",
    "torch.save(model.state_dict(), 'binary_classifier.pth')"
   ]
  },
  {
   "cell_type": "code",
   "execution_count": null,
   "id": "3946a1ee-fb33-43bb-ab1b-c100025f379c",
   "metadata": {},
   "outputs": [],
   "source": []
  }
 ],
 "metadata": {
  "kernelspec": {
   "display_name": "Python 3 (ipykernel)",
   "language": "python",
   "name": "python3"
  },
  "language_info": {
   "codemirror_mode": {
    "name": "ipython",
    "version": 3
   },
   "file_extension": ".py",
   "mimetype": "text/x-python",
   "name": "python",
   "nbconvert_exporter": "python",
   "pygments_lexer": "ipython3",
   "version": "3.9.7"
  }
 },
 "nbformat": 4,
 "nbformat_minor": 5
}
